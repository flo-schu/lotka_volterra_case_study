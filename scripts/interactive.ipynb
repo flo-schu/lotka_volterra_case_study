{
 "cells": [
  {
   "cell_type": "markdown",
   "metadata": {},
   "source": [
    "# Interactive simulation of test case study\n",
    "\n",
    "First load packages and switch into the correct working directory"
   ]
  },
  {
   "cell_type": "code",
   "execution_count": 1,
   "metadata": {},
   "outputs": [],
   "source": [
    "from pymob import Config\n",
    "\n",
    "from lotka_volterra_case_study.sim import Simulation_v2"
   ]
  },
  {
   "cell_type": "markdown",
   "metadata": {},
   "source": [
    "Load casestudy"
   ]
  },
  {
   "cell_type": "code",
   "execution_count": 2,
   "metadata": {},
   "outputs": [
    {
     "name": "stdout",
     "output_type": "stream",
     "text": [
      "MinMaxScaler(variable=rabbits, min=5.968110437683305, max=86.99133665713266)\n",
      "MinMaxScaler(variable=wolves, min=7.203778019337644, max=62.829641338400535)\n",
      "Results directory exists at '/home/flo-schu/projects/pymob/case_studies/lotka_volterra_case_study/results/test_scenario_v2'.\n",
      "Scenario directory exists at '/home/flo-schu/projects/pymob/case_studies/lotka_volterra_case_study/scenarios/test_scenario_v2'.\n"
     ]
    },
    {
     "name": "stderr",
     "output_type": "stream",
     "text": [
      "/home/flo-schu/miniconda3/envs/lotka-volterra/lib/python3.11/site-packages/pymob/simulation.py:546: UserWarning: The number of ODE states was not specified in the config file [simulation] > 'n_ode_states = <n>'. Extracted the return arguments ['dprey_dt', 'dpredator_dt'] from the source code. Setting 'n_ode_states=2.\n",
      "  warnings.warn(\n"
     ]
    }
   ],
   "source": [
    "config = Config(\"../scenarios/test_scenario_v2/settings.cfg\")\n",
    "config.case_study.package = \"../..\"\n",
    "\n",
    "sim = Simulation_v2(config)\n",
    "sim.setup()\n"
   ]
  },
  {
   "cell_type": "code",
   "execution_count": 11,
   "metadata": {},
   "outputs": [],
   "source": [
    "# Prey birth rate (alpha * prey)\n",
    "sim.config.model_parameters.alpha.min = 0.1\n",
    "sim.config.model_parameters.alpha.max = 1.0\n",
    "sim.config.model_parameters.alpha.free = True\n",
    "\n",
    "# Predation rate (- beta * prey * predator)\n",
    "sim.config.model_parameters.beta.min = 0.005\n",
    "sim.config.model_parameters.beta.max = 0.05\n",
    "sim.config.model_parameters.beta.free = True\n",
    "\n",
    "# Predator reproduction rate (delta * prey * predator)\n",
    "sim.config.model_parameters.delta.min = 0.005\n",
    "sim.config.model_parameters.delta.max = 0.05\n",
    "sim.config.model_parameters.delta.free = True\n",
    "\n",
    "# Predator death rate (- gamma * predator)\n",
    "sim.config.model_parameters.gamma.min = 0.1\n",
    "sim.config.model_parameters.gamma.max = 1.0\n",
    "sim.config.model_parameters.gamma.free = True\n"
   ]
  },
  {
   "cell_type": "markdown",
   "metadata": {},
   "source": [
    "## Run interactive simulation"
   ]
  },
  {
   "cell_type": "code",
   "execution_count": 12,
   "metadata": {},
   "outputs": [
    {
     "data": {
      "application/vnd.jupyter.widget-view+json": {
       "model_id": "51735b6bd36345bcb950c2a3f79e8b9a",
       "version_major": 2,
       "version_minor": 0
      },
      "text/plain": [
       "HBox(children=(VBox(children=(FloatSlider(value=0.5, description='alpha', max=1.0, min=0.1, step=None), FloatS…"
      ]
     },
     "metadata": {},
     "output_type": "display_data"
    }
   ],
   "source": [
    "sim.interactive()"
   ]
  }
 ],
 "metadata": {
  "kernelspec": {
   "display_name": "lotka-volterra",
   "language": "python",
   "name": "python3"
  },
  "language_info": {
   "codemirror_mode": {
    "name": "ipython",
    "version": 3
   },
   "file_extension": ".py",
   "mimetype": "text/x-python",
   "name": "python",
   "nbconvert_exporter": "python",
   "pygments_lexer": "ipython3",
   "version": "3.11.11"
  }
 },
 "nbformat": 4,
 "nbformat_minor": 2
}
